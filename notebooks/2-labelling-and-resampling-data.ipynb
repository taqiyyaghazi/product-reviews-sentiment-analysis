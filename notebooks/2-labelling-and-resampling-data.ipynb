{
 "cells": [
  {
   "cell_type": "code",
   "execution_count": 1,
   "metadata": {},
   "outputs": [],
   "source": [
    "import pandas as pd\n",
    "import matplotlib.pyplot as plt\n",
    "import numpy as np"
   ]
  },
  {
   "cell_type": "markdown",
   "metadata": {},
   "source": [
    "## Import Data"
   ]
  },
  {
   "cell_type": "code",
   "execution_count": 2,
   "metadata": {},
   "outputs": [],
   "source": [
    "DF_PATH = '../data/raw/'\n",
    "df_food = pd.read_csv(DF_PATH + 'food_reviews.csv')\n",
    "df_electronic = pd.read_csv(DF_PATH + 'electronic_reviews.csv')\n",
    "df_fashion = pd.read_csv(DF_PATH + 'fashion_reviews.csv')"
   ]
  },
  {
   "cell_type": "code",
   "execution_count": 3,
   "metadata": {},
   "outputs": [
    {
     "data": {
      "text/html": [
       "<div>\n",
       "<style scoped>\n",
       "    .dataframe tbody tr th:only-of-type {\n",
       "        vertical-align: middle;\n",
       "    }\n",
       "\n",
       "    .dataframe tbody tr th {\n",
       "        vertical-align: top;\n",
       "    }\n",
       "\n",
       "    .dataframe thead th {\n",
       "        text-align: right;\n",
       "    }\n",
       "</style>\n",
       "<table border=\"1\" class=\"dataframe\">\n",
       "  <thead>\n",
       "    <tr style=\"text-align: right;\">\n",
       "      <th></th>\n",
       "      <th>rating</th>\n",
       "      <th>reviews</th>\n",
       "    </tr>\n",
       "  </thead>\n",
       "  <tbody>\n",
       "    <tr>\n",
       "      <th>0</th>\n",
       "      <td>5.0</td>\n",
       "      <td>Jenis:sp pengembang\\nHarga:murah\\nKualitas:bai...</td>\n",
       "    </tr>\n",
       "    <tr>\n",
       "      <th>1</th>\n",
       "      <td>5.0</td>\n",
       "      <td>Masya Alloh,, pengiriman cepet,, pengemasan ra...</td>\n",
       "    </tr>\n",
       "    <tr>\n",
       "      <th>2</th>\n",
       "      <td>5.0</td>\n",
       "      <td>Pengiriman cepat pengemasan cepat hrga murah e...</td>\n",
       "    </tr>\n",
       "    <tr>\n",
       "      <th>3</th>\n",
       "      <td>5.0</td>\n",
       "      <td>Harga:Terjangkau\\nKualitas:Bagus\\nJenis:Pengem...</td>\n",
       "    </tr>\n",
       "    <tr>\n",
       "      <th>4</th>\n",
       "      <td>5.0</td>\n",
       "      <td>Jenis:koepoe koepoe baking mix s p pengemulsi\\...</td>\n",
       "    </tr>\n",
       "  </tbody>\n",
       "</table>\n",
       "</div>"
      ],
      "text/plain": [
       "   rating                                            reviews\n",
       "0     5.0  Jenis:sp pengembang\\nHarga:murah\\nKualitas:bai...\n",
       "1     5.0  Masya Alloh,, pengiriman cepet,, pengemasan ra...\n",
       "2     5.0  Pengiriman cepat pengemasan cepat hrga murah e...\n",
       "3     5.0  Harga:Terjangkau\\nKualitas:Bagus\\nJenis:Pengem...\n",
       "4     5.0  Jenis:koepoe koepoe baking mix s p pengemulsi\\..."
      ]
     },
     "execution_count": 3,
     "metadata": {},
     "output_type": "execute_result"
    }
   ],
   "source": [
    "df_food.head()"
   ]
  },
  {
   "cell_type": "code",
   "execution_count": 4,
   "metadata": {},
   "outputs": [
    {
     "data": {
      "text/html": [
       "<div>\n",
       "<style scoped>\n",
       "    .dataframe tbody tr th:only-of-type {\n",
       "        vertical-align: middle;\n",
       "    }\n",
       "\n",
       "    .dataframe tbody tr th {\n",
       "        vertical-align: top;\n",
       "    }\n",
       "\n",
       "    .dataframe thead th {\n",
       "        text-align: right;\n",
       "    }\n",
       "</style>\n",
       "<table border=\"1\" class=\"dataframe\">\n",
       "  <thead>\n",
       "    <tr style=\"text-align: right;\">\n",
       "      <th></th>\n",
       "      <th>rating</th>\n",
       "      <th>reviews</th>\n",
       "    </tr>\n",
       "  </thead>\n",
       "  <tbody>\n",
       "    <tr>\n",
       "      <th>0</th>\n",
       "      <td>5.0</td>\n",
       "      <td>Sesuai ekspektasi banget sih ini. Warnanya can...</td>\n",
       "    </tr>\n",
       "    <tr>\n",
       "      <th>1</th>\n",
       "      <td>5.0</td>\n",
       "      <td>Alhamdulillah paket nya sudah sampai dgn aman,...</td>\n",
       "    </tr>\n",
       "    <tr>\n",
       "      <th>2</th>\n",
       "      <td>5.0</td>\n",
       "      <td>Paket sudah sampai, warna nya cantik banget he...</td>\n",
       "    </tr>\n",
       "    <tr>\n",
       "      <th>3</th>\n",
       "      <td>5.0</td>\n",
       "      <td>bagusss bangettt beli pas lagi promoo tapi ga ...</td>\n",
       "    </tr>\n",
       "    <tr>\n",
       "      <th>4</th>\n",
       "      <td>5.0</td>\n",
       "      <td>Produk ori miniso, barang bagus, nyampe dengan...</td>\n",
       "    </tr>\n",
       "  </tbody>\n",
       "</table>\n",
       "</div>"
      ],
      "text/plain": [
       "   rating                                            reviews\n",
       "0     5.0  Sesuai ekspektasi banget sih ini. Warnanya can...\n",
       "1     5.0  Alhamdulillah paket nya sudah sampai dgn aman,...\n",
       "2     5.0  Paket sudah sampai, warna nya cantik banget he...\n",
       "3     5.0  bagusss bangettt beli pas lagi promoo tapi ga ...\n",
       "4     5.0  Produk ori miniso, barang bagus, nyampe dengan..."
      ]
     },
     "execution_count": 4,
     "metadata": {},
     "output_type": "execute_result"
    }
   ],
   "source": [
    "df_electronic.head()"
   ]
  },
  {
   "cell_type": "code",
   "execution_count": 5,
   "metadata": {},
   "outputs": [
    {
     "data": {
      "text/html": [
       "<div>\n",
       "<style scoped>\n",
       "    .dataframe tbody tr th:only-of-type {\n",
       "        vertical-align: middle;\n",
       "    }\n",
       "\n",
       "    .dataframe tbody tr th {\n",
       "        vertical-align: top;\n",
       "    }\n",
       "\n",
       "    .dataframe thead th {\n",
       "        text-align: right;\n",
       "    }\n",
       "</style>\n",
       "<table border=\"1\" class=\"dataframe\">\n",
       "  <thead>\n",
       "    <tr style=\"text-align: right;\">\n",
       "      <th></th>\n",
       "      <th>rating</th>\n",
       "      <th>reviews</th>\n",
       "    </tr>\n",
       "  </thead>\n",
       "  <tbody>\n",
       "    <tr>\n",
       "      <th>0</th>\n",
       "      <td>5.0</td>\n",
       "      <td>Sumpah baguus bangeeet doong ...  Agak kebesar...</td>\n",
       "    </tr>\n",
       "    <tr>\n",
       "      <th>1</th>\n",
       "      <td>5.0</td>\n",
       "      <td>Alhamdulilah paket sudah sampai\\nMasya Allah b...</td>\n",
       "    </tr>\n",
       "    <tr>\n",
       "      <th>2</th>\n",
       "      <td>5.0</td>\n",
       "      <td>Barang sudah sampai sesuai pesanan ukuran 34 m...</td>\n",
       "    </tr>\n",
       "    <tr>\n",
       "      <th>3</th>\n",
       "      <td>5.0</td>\n",
       "      <td>BAGUS BANGET LOHHH, monangissss harga murce ba...</td>\n",
       "    </tr>\n",
       "    <tr>\n",
       "      <th>4</th>\n",
       "      <td>5.0</td>\n",
       "      <td>Assalamu'alaikum wr wb. Terkait kegiatan PKKS ...</td>\n",
       "    </tr>\n",
       "  </tbody>\n",
       "</table>\n",
       "</div>"
      ],
      "text/plain": [
       "   rating                                            reviews\n",
       "0     5.0  Sumpah baguus bangeeet doong ...  Agak kebesar...\n",
       "1     5.0  Alhamdulilah paket sudah sampai\\nMasya Allah b...\n",
       "2     5.0  Barang sudah sampai sesuai pesanan ukuran 34 m...\n",
       "3     5.0  BAGUS BANGET LOHHH, monangissss harga murce ba...\n",
       "4     5.0  Assalamu'alaikum wr wb. Terkait kegiatan PKKS ..."
      ]
     },
     "execution_count": 5,
     "metadata": {},
     "output_type": "execute_result"
    }
   ],
   "source": [
    "df_fashion.head()"
   ]
  },
  {
   "cell_type": "markdown",
   "metadata": {},
   "source": [
    "## Visualisasi Jumlah Data"
   ]
  },
  {
   "cell_type": "code",
   "execution_count": 6,
   "metadata": {},
   "outputs": [
    {
     "data": {
      "image/png": "[encoded data removed]",
      "text/plain": [
       "<Figure size 432x288 with 1 Axes>"
      ]
     },
     "metadata": {
      "needs_background": "light"
     },
     "output_type": "display_data"
    }
   ],
   "source": [
    "CATEGORY = [\"Food\", \"Electronic\", \"Fashion\"]\n",
    "# creating the bar plot\n",
    "plt.bar(CATEGORY, [len(x) for x in [df_fashion, df_food, df_electronic]])\n",
    "plt.xlabel(\"Kategori\")\n",
    "plt.ylabel(\"Jumlah Data\")\n",
    "plt.title(\"Jumlah Data Reviews per Kategori\")\n",
    "plt.show()"
   ]
  },
  {
   "cell_type": "markdown",
   "metadata": {},
   "source": [
    "## Labelling Data"
   ]
  },
  {
   "cell_type": "code",
   "execution_count": 7,
   "metadata": {},
   "outputs": [],
   "source": [
    "# Fungsi untuk melabeli data\n",
    "def labelling_data (df):\n",
    "    label = []\n",
    "    for rating in df['rating']:\n",
    "        if rating > 3:\n",
    "            label.append(1)\n",
    "        elif rating <= 3:\n",
    "            label.append(0)\n",
    "    df['label'] = label\n",
    "    return df"
   ]
  },
  {
   "cell_type": "code",
   "execution_count": 8,
   "metadata": {},
   "outputs": [],
   "source": [
    "# Dataframe baru hasil pelabelan\n",
    "df_food_labelled = labelling_data(df_food)\n",
    "df_electronic_labelled = labelling_data(df_electronic)\n",
    "df_fashion_labelled = labelling_data(df_fashion)"
   ]
  },
  {
   "cell_type": "markdown",
   "metadata": {},
   "source": [
    "## Hapus Kolom Rating"
   ]
  },
  {
   "cell_type": "code",
   "execution_count": 9,
   "metadata": {},
   "outputs": [],
   "source": [
    "df_food_labelled = df_food_labelled.drop('rating', axis=1)\n",
    "df_electronic_labelled = df_electronic_labelled.drop('rating', axis=1)\n",
    "df_fashion_labelled = df_fashion_labelled.drop('rating', axis=1)"
   ]
  },
  {
   "cell_type": "markdown",
   "metadata": {},
   "source": [
    "## Visualisasi Rasio Label per Kategori"
   ]
  },
  {
   "cell_type": "code",
   "execution_count": 10,
   "metadata": {},
   "outputs": [],
   "source": [
    "# Compile rasio label di setiap kategori {'kategori' : [positif, negatif]}\n",
    "label_ratio = {} \n",
    "for i, ctg in enumerate([df_food_labelled, df_electronic_labelled, df_fashion_labelled]):\n",
    "    count_label = ctg.label.value_counts()\n",
    "    label_ratio[CATEGORY[i]] = list(count_label.values)\n"
   ]
  },
  {
   "cell_type": "code",
   "execution_count": 11,
   "metadata": {},
   "outputs": [
    {
     "data": {
      "image/png": "[encoded data removed]",
      "text/plain": [
       "<Figure size 432x288 with 1 Axes>"
      ]
     },
     "metadata": {
      "needs_background": "light"
     },
     "output_type": "display_data"
    }
   ],
   "source": [
    "\n",
    "positive_label = [label_ratio[i][0] for i in label_ratio]\n",
    "negative_label = [label_ratio[i][1] for i in label_ratio]\n",
    "  \n",
    "X_axis = np.arange(len(CATEGORY))\n",
    "  \n",
    "plt.bar(X_axis - 0.2, positive_label, 0.4, label = 'Positive')\n",
    "plt.bar(X_axis + 0.2, negative_label, 0.4, label = 'Negative')\n",
    "  \n",
    "plt.xticks(X_axis, CATEGORY)\n",
    "plt.xlabel(\"Kategori\")\n",
    "plt.ylabel(\"Jumlah Label\")\n",
    "plt.title(\"Rasio Label per Kategori\")\n",
    "plt.legend()\n",
    "plt.show()"
   ]
  },
  {
   "cell_type": "markdown",
   "metadata": {},
   "source": [
    "## Under Sampling Data"
   ]
  },
  {
   "cell_type": "code",
   "execution_count": 12,
   "metadata": {},
   "outputs": [],
   "source": [
    "# Fungsi Undersampling\n",
    "def under_sampling(df):\n",
    "    df_class_0 = df[df.label == 0]\n",
    "    df_class_1 = df[df.label == 1]\n",
    "    count_class_0 = df_class_0.label.value_counts()[0]\n",
    "    df_class_1_under = df_class_1.sample(count_class_0)\n",
    "    df_test_under = pd.concat([df_class_1_under, df_class_0], axis=0)\n",
    "    print('Hasil Undersampling')\n",
    "    print(df_test_under.label.value_counts())\n",
    "    return df_test_under\n",
    "    "
   ]
  },
  {
   "cell_type": "code",
   "execution_count": 13,
   "metadata": {},
   "outputs": [
    {
     "name": "stdout",
     "output_type": "stream",
     "text": [
      "Hasil Undersampling\n",
      "1    5211\n",
      "0    5211\n",
      "Name: label, dtype: int64\n",
      "Hasil Undersampling\n",
      "1    24861\n",
      "0    24861\n",
      "Name: label, dtype: int64\n",
      "Hasil Undersampling\n",
      "1    56540\n",
      "0    56540\n",
      "Name: label, dtype: int64\n"
     ]
    }
   ],
   "source": [
    "# Undersampling Data \n",
    "df_food_resampled = under_sampling(df_food_labelled)\n",
    "df_electronic_resampled = under_sampling(df_electronic_labelled)\n",
    "df_fashion_resampled = under_sampling(df_fashion_labelled)"
   ]
  },
  {
   "cell_type": "markdown",
   "metadata": {},
   "source": [
    "## Save Data"
   ]
  },
  {
   "cell_type": "code",
   "execution_count": 14,
   "metadata": {},
   "outputs": [],
   "source": [
    "def save_data(df, filename):\n",
    "    PATH = '../data/interim/' + filename + '.csv'\n",
    "    df.to_csv(PATH, index=False)\n"
   ]
  },
  {
   "cell_type": "code",
   "execution_count": 16,
   "metadata": {},
   "outputs": [],
   "source": [
    "save_data(df_food_resampled, '0_food_labelled_resampled')\n",
    "save_data(df_electronic_resampled, '0_electronic_labelled_resampled')\n",
    "save_data(df_fashion_resampled, '0_fashion_labelled_resampled')"
   ]
  }
 ],
 "metadata": {
  "interpreter": {
   "hash": "c11b6e3dd3c40971b4e52db259878f5dc8d878adefe17888dc47bc66d82c736b"
  },
  "kernelspec": {
   "display_name": "Python 3.9.6 ('.venv': venv)",
   "language": "python",
   "name": "python3"
  },
  "language_info": {
   "codemirror_mode": {
    "name": "ipython",
    "version": 3
   },
   "file_extension": ".py",
   "mimetype": "text/x-python",
   "name": "python",
   "nbconvert_exporter": "python",
   "pygments_lexer": "ipython3",
   "version": "3.9.6"
  },
  "orig_nbformat": 4
 },
 "nbformat": 4,
 "nbformat_minor": 2
}
