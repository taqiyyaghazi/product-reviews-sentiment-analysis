{
 "cells": [
  {
   "cell_type": "code",
   "execution_count": 1,
   "metadata": {},
   "outputs": [],
   "source": [
    "import pandas as pd\n",
    "from Sastrawi.StopWordRemover.StopWordRemoverFactory import StopWordRemoverFactory\n",
    "from Sastrawi.Stemmer.StemmerFactory import StemmerFactory"
   ]
  },
  {
   "cell_type": "markdown",
   "metadata": {},
   "source": [
    "## Import Data"
   ]
  },
  {
   "cell_type": "code",
   "execution_count": 2,
   "metadata": {},
   "outputs": [],
   "source": [
    "DF_PATH = '../data/interim/'\n",
    "df_food = pd.read_csv(DF_PATH + '0_food_labelled_resampled.csv')\n",
    "df_electronic = pd.read_csv(DF_PATH + '0_electronic_labelled_resampled.csv')\n",
    "df_fashion = pd.read_csv(DF_PATH + '0_fashion_labelled_resampled.csv')"
   ]
  },
  {
   "cell_type": "code",
   "execution_count": 3,
   "metadata": {},
   "outputs": [
    {
     "data": {
      "text/html": [
       "<div>\n",
       "<style scoped>\n",
       "    .dataframe tbody tr th:only-of-type {\n",
       "        vertical-align: middle;\n",
       "    }\n",
       "\n",
       "    .dataframe tbody tr th {\n",
       "        vertical-align: top;\n",
       "    }\n",
       "\n",
       "    .dataframe thead th {\n",
       "        text-align: right;\n",
       "    }\n",
       "</style>\n",
       "<table border=\"1\" class=\"dataframe\">\n",
       "  <thead>\n",
       "    <tr style=\"text-align: right;\">\n",
       "      <th></th>\n",
       "      <th>reviews</th>\n",
       "      <th>label</th>\n",
       "    </tr>\n",
       "  </thead>\n",
       "  <tbody>\n",
       "    <tr>\n",
       "      <th>0</th>\n",
       "      <td>Harga:sedang\\nKualitas:sedang\\nRasa:blm tau\\n\\...</td>\n",
       "      <td>1</td>\n",
       "    </tr>\n",
       "    <tr>\n",
       "      <th>1</th>\n",
       "      <td>Bagusss bangettttt ,pengemasan aman bangett re...</td>\n",
       "      <td>1</td>\n",
       "    </tr>\n",
       "    <tr>\n",
       "      <th>2</th>\n",
       "      <td>Kualitas:bsgus\\nHarga:standar\\n\\nPaketny dah D...</td>\n",
       "      <td>1</td>\n",
       "    </tr>\n",
       "    <tr>\n",
       "      <th>3</th>\n",
       "      <td>Bumbunya mantappppppppppppppppppppppppppppppp ...</td>\n",
       "      <td>1</td>\n",
       "    </tr>\n",
       "    <tr>\n",
       "      <th>4</th>\n",
       "      <td>Harga:ok\\nRasa:coklat\\nKualitas:ok\\n\\nTerima k...</td>\n",
       "      <td>1</td>\n",
       "    </tr>\n",
       "  </tbody>\n",
       "</table>\n",
       "</div>"
      ],
      "text/plain": [
       "                                             reviews  label\n",
       "0  Harga:sedang\\nKualitas:sedang\\nRasa:blm tau\\n\\...      1\n",
       "1  Bagusss bangettttt ,pengemasan aman bangett re...      1\n",
       "2  Kualitas:bsgus\\nHarga:standar\\n\\nPaketny dah D...      1\n",
       "3  Bumbunya mantappppppppppppppppppppppppppppppp ...      1\n",
       "4  Harga:ok\\nRasa:coklat\\nKualitas:ok\\n\\nTerima k...      1"
      ]
     },
     "execution_count": 3,
     "metadata": {},
     "output_type": "execute_result"
    }
   ],
   "source": [
    "df_food.head()"
   ]
  },
  {
   "cell_type": "code",
   "execution_count": 4,
   "metadata": {},
   "outputs": [
    {
     "data": {
      "text/html": [
       "<div>\n",
       "<style scoped>\n",
       "    .dataframe tbody tr th:only-of-type {\n",
       "        vertical-align: middle;\n",
       "    }\n",
       "\n",
       "    .dataframe tbody tr th {\n",
       "        vertical-align: top;\n",
       "    }\n",
       "\n",
       "    .dataframe thead th {\n",
       "        text-align: right;\n",
       "    }\n",
       "</style>\n",
       "<table border=\"1\" class=\"dataframe\">\n",
       "  <thead>\n",
       "    <tr style=\"text-align: right;\">\n",
       "      <th></th>\n",
       "      <th>reviews</th>\n",
       "      <th>label</th>\n",
       "    </tr>\n",
       "  </thead>\n",
       "  <tbody>\n",
       "    <tr>\n",
       "      <th>0</th>\n",
       "      <td>Harga murah speaker lumayan kenceng bsa karoke...</td>\n",
       "      <td>1</td>\n",
       "    </tr>\n",
       "    <tr>\n",
       "      <th>1</th>\n",
       "      <td>Terima kasih barang sudah sampai, pengiriman s...</td>\n",
       "      <td>1</td>\n",
       "    </tr>\n",
       "    <tr>\n",
       "      <th>2</th>\n",
       "      <td>Mantap barang nya pengiriman cepat,seller rama...</td>\n",
       "      <td>1</td>\n",
       "    </tr>\n",
       "    <tr>\n",
       "      <th>3</th>\n",
       "      <td>Mantap paketnya sdh sampai sesuai pesanan</td>\n",
       "      <td>1</td>\n",
       "    </tr>\n",
       "    <tr>\n",
       "      <th>4</th>\n",
       "      <td>Terimakasih kak seller dan shoppe,  barangnya ...</td>\n",
       "      <td>1</td>\n",
       "    </tr>\n",
       "  </tbody>\n",
       "</table>\n",
       "</div>"
      ],
      "text/plain": [
       "                                             reviews  label\n",
       "0  Harga murah speaker lumayan kenceng bsa karoke...      1\n",
       "1  Terima kasih barang sudah sampai, pengiriman s...      1\n",
       "2  Mantap barang nya pengiriman cepat,seller rama...      1\n",
       "3          Mantap paketnya sdh sampai sesuai pesanan      1\n",
       "4  Terimakasih kak seller dan shoppe,  barangnya ...      1"
      ]
     },
     "execution_count": 4,
     "metadata": {},
     "output_type": "execute_result"
    }
   ],
   "source": [
    "df_electronic.head()"
   ]
  },
  {
   "cell_type": "code",
   "execution_count": 5,
   "metadata": {},
   "outputs": [
    {
     "data": {
      "text/html": [
       "<div>\n",
       "<style scoped>\n",
       "    .dataframe tbody tr th:only-of-type {\n",
       "        vertical-align: middle;\n",
       "    }\n",
       "\n",
       "    .dataframe tbody tr th {\n",
       "        vertical-align: top;\n",
       "    }\n",
       "\n",
       "    .dataframe thead th {\n",
       "        text-align: right;\n",
       "    }\n",
       "</style>\n",
       "<table border=\"1\" class=\"dataframe\">\n",
       "  <thead>\n",
       "    <tr style=\"text-align: right;\">\n",
       "      <th></th>\n",
       "      <th>reviews</th>\n",
       "      <th>label</th>\n",
       "    </tr>\n",
       "  </thead>\n",
       "  <tbody>\n",
       "    <tr>\n",
       "      <th>0</th>\n",
       "      <td>Alhamdulillah jilbab sya sdh sampai, kualitas ...</td>\n",
       "      <td>1</td>\n",
       "    </tr>\n",
       "    <tr>\n",
       "      <th>1</th>\n",
       "      <td>Bahan nya suka bgt adem dan lembut sangat memu...</td>\n",
       "      <td>1</td>\n",
       "    </tr>\n",
       "    <tr>\n",
       "      <th>2</th>\n",
       "      <td>Hoodie yang tebal dan bagus</td>\n",
       "      <td>1</td>\n",
       "    </tr>\n",
       "    <tr>\n",
       "      <th>3</th>\n",
       "      <td>Respon penjual ramah baik. Pengiriman lumayan ...</td>\n",
       "      <td>1</td>\n",
       "    </tr>\n",
       "    <tr>\n",
       "      <th>4</th>\n",
       "      <td>bagussss bangettt, bahann tebal, pengiriman ce...</td>\n",
       "      <td>1</td>\n",
       "    </tr>\n",
       "  </tbody>\n",
       "</table>\n",
       "</div>"
      ],
      "text/plain": [
       "                                             reviews  label\n",
       "0  Alhamdulillah jilbab sya sdh sampai, kualitas ...      1\n",
       "1  Bahan nya suka bgt adem dan lembut sangat memu...      1\n",
       "2                        Hoodie yang tebal dan bagus      1\n",
       "3  Respon penjual ramah baik. Pengiriman lumayan ...      1\n",
       "4  bagussss bangettt, bahann tebal, pengiriman ce...      1"
      ]
     },
     "execution_count": 5,
     "metadata": {},
     "output_type": "execute_result"
    }
   ],
   "source": [
    "df_fashion.head()"
   ]
  },
  {
   "cell_type": "markdown",
   "metadata": {},
   "source": [
    "## Clean Reviews"
   ]
  },
  {
   "cell_type": "code",
   "execution_count": 6,
   "metadata": {},
   "outputs": [],
   "source": [
    "sastrawi = StopWordRemoverFactory()\n",
    "stopword = sastrawi.get_stop_words()\n",
    "factory = StemmerFactory()\n",
    "stemmer = factory.create_stemmer()"
   ]
  },
  {
   "cell_type": "markdown",
   "metadata": {},
   "source": [
    "### Lower, Remove Newline, Stemming, & Remove Stopword"
   ]
  },
  {
   "cell_type": "code",
   "execution_count": 7,
   "metadata": {},
   "outputs": [],
   "source": [
    "def clean_text_1(text):\n",
    "    text = text.lower() # lower all sentence\n",
    "    text = text.strip() # remove newline\n",
    "    text = stemmer.stem(text) # Stemming kata berimbuhan menjadi kata dasar\n",
    "    text = ' '.join(word for word in text.split() if word not in stopword)\n",
    "    return text"
   ]
  },
  {
   "cell_type": "code",
   "execution_count": 9,
   "metadata": {},
   "outputs": [
    {
     "name": "stdout",
     "output_type": "stream",
     "text": [
      "Cleaning Food Reviews...\n",
      "Cleaning Electronic Reviews...\n",
      "Cleaning Fashion Reviews...\n",
      "Cleaning Data Done.\n"
     ]
    }
   ],
   "source": [
    "print('Cleaning Food Reviews...')\n",
    "df_food['clean_review_v1'] = df_food['reviews'].apply(clean_text_1)  \n",
    "print('Cleaning Electronic Reviews...')\n",
    "df_electronic['clean_review_v1'] = df_electronic['reviews'].apply(clean_text_1) \n",
    "print('Cleaning Fashion Reviews...') \n",
    "df_fashion['clean_review_v1'] = df_fashion['reviews'].apply(clean_text_1)\n",
    "print('Cleaning Data Done.')  \n"
   ]
  },
  {
   "cell_type": "code",
   "execution_count": 11,
   "metadata": {},
   "outputs": [],
   "source": [
    "df_food.to_csv('../data/interim/1_food_cleaned_v1.csv', index = False)\n",
    "df_electronic.to_csv('../data/interim/1_electronic_cleaned_v1.csv', index = False)\n",
    "df_fashion.to_csv('../data/interim/1_fashion_cleaned_v1.csv', index = False)"
   ]
  }
 ],
 "metadata": {
  "interpreter": {
   "hash": "c11b6e3dd3c40971b4e52db259878f5dc8d878adefe17888dc47bc66d82c736b"
  },
  "kernelspec": {
   "display_name": "Python 3.9.6 ('.venv': venv)",
   "language": "python",
   "name": "python3"
  },
  "language_info": {
   "codemirror_mode": {
    "name": "ipython",
    "version": 3
   },
   "file_extension": ".py",
   "mimetype": "text/x-python",
   "name": "python",
   "nbconvert_exporter": "python",
   "pygments_lexer": "ipython3",
   "version": "3.9.6"
  },
  "orig_nbformat": 4
 },
 "nbformat": 4,
 "nbformat_minor": 2
}
