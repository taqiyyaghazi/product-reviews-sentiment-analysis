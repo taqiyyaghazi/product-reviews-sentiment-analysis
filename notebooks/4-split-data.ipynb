{
 "cells": [
  {
   "cell_type": "code",
   "execution_count": 33,
   "metadata": {},
   "outputs": [],
   "source": [
    "import pandas as pd\n",
    "from sklearn.model_selection import train_test_split\n",
    "from collections import Counter"
   ]
  },
  {
   "cell_type": "code",
   "execution_count": 2,
   "metadata": {},
   "outputs": [],
   "source": [
    "DF_PATH = '../data/interim/'"
   ]
  },
  {
   "cell_type": "markdown",
   "metadata": {},
   "source": [
    "## Import Data"
   ]
  },
  {
   "cell_type": "code",
   "execution_count": 3,
   "metadata": {},
   "outputs": [],
   "source": [
    "\n",
    "df_food = pd.read_csv(DF_PATH + '2_food_cleaned_v2.csv')\n",
    "df_electronic = pd.read_csv(DF_PATH + '2_electronic_cleaned_v2.csv')\n",
    "df_fashion = pd.read_csv(DF_PATH + '2_fashion_cleaned_v2.csv')"
   ]
  },
  {
   "cell_type": "code",
   "execution_count": 4,
   "metadata": {},
   "outputs": [
    {
     "data": {
      "text/html": [
       "<div>\n",
       "<style scoped>\n",
       "    .dataframe tbody tr th:only-of-type {\n",
       "        vertical-align: middle;\n",
       "    }\n",
       "\n",
       "    .dataframe tbody tr th {\n",
       "        vertical-align: top;\n",
       "    }\n",
       "\n",
       "    .dataframe thead th {\n",
       "        text-align: right;\n",
       "    }\n",
       "</style>\n",
       "<table border=\"1\" class=\"dataframe\">\n",
       "  <thead>\n",
       "    <tr style=\"text-align: right;\">\n",
       "      <th></th>\n",
       "      <th>reviews</th>\n",
       "      <th>label</th>\n",
       "      <th>clean_review_v1</th>\n",
       "      <th>clean_review_v2</th>\n",
       "      <th>clean_review_v3</th>\n",
       "      <th>clean_review_v4</th>\n",
       "    </tr>\n",
       "  </thead>\n",
       "  <tbody>\n",
       "    <tr>\n",
       "      <th>0</th>\n",
       "      <td>Harga:sedang\\nKualitas:sedang\\nRasa:blm tau\\n\\...</td>\n",
       "      <td>1</td>\n",
       "      <td>harga sedang kualitas sedang rasa blm tau pack...</td>\n",
       "      <td>harga sedang kualitas sedang rasa blm tau pack...</td>\n",
       "      <td>harga sedang kualitas sedang rasa blm tau pack...</td>\n",
       "      <td>harga sedang kualitas sedang rasa packing rapi...</td>\n",
       "    </tr>\n",
       "    <tr>\n",
       "      <th>1</th>\n",
       "      <td>Bagusss bangettttt ,pengemasan aman bangett re...</td>\n",
       "      <td>1</td>\n",
       "      <td>bagusss bangettttt emas aman bangett recomend ...</td>\n",
       "      <td>bagus banget emas aman banget recomend pokoknya</td>\n",
       "      <td>bagus banget emas aman banget recomend pokoknya</td>\n",
       "      <td>bagus banget emas aman banget recomend pokoknya</td>\n",
       "    </tr>\n",
       "    <tr>\n",
       "      <th>2</th>\n",
       "      <td>Kualitas:bsgus\\nHarga:standar\\n\\nPaketny dah D...</td>\n",
       "      <td>1</td>\n",
       "      <td>kualitas bsgus harga standar paketny dah daten...</td>\n",
       "      <td>kualitas bsgus harga standar paketny dah daten...</td>\n",
       "      <td>kualitas harga standar dah dateng sesuai pesan...</td>\n",
       "      <td>kualitas harga standar dateng sesuai pesan lam...</td>\n",
       "    </tr>\n",
       "    <tr>\n",
       "      <th>3</th>\n",
       "      <td>Bumbunya mantappppppppppppppppppppppppppppppp ...</td>\n",
       "      <td>1</td>\n",
       "      <td>bumbu mantappppppppppppppppppppppppppppppp lah...</td>\n",
       "      <td>bumbu mantap lah</td>\n",
       "      <td>bumbu mantap lah</td>\n",
       "      <td>bumbu mantap</td>\n",
       "    </tr>\n",
       "    <tr>\n",
       "      <th>4</th>\n",
       "      <td>Harga:ok\\nRasa:coklat\\nKualitas:ok\\n\\nTerima k...</td>\n",
       "      <td>1</td>\n",
       "      <td>harga rasa coklat kualitas terima kasih banyak...</td>\n",
       "      <td>harga rasa coklat kualitas terima kasih banyak...</td>\n",
       "      <td>harga rasa coklat kualitas terima kasih banyak...</td>\n",
       "      <td>harga rasa coklat kualitas terima kasih banyak...</td>\n",
       "    </tr>\n",
       "  </tbody>\n",
       "</table>\n",
       "</div>"
      ],
      "text/plain": [
       "                                             reviews  label  \\\n",
       "0  Harga:sedang\\nKualitas:sedang\\nRasa:blm tau\\n\\...      1   \n",
       "1  Bagusss bangettttt ,pengemasan aman bangett re...      1   \n",
       "2  Kualitas:bsgus\\nHarga:standar\\n\\nPaketny dah D...      1   \n",
       "3  Bumbunya mantappppppppppppppppppppppppppppppp ...      1   \n",
       "4  Harga:ok\\nRasa:coklat\\nKualitas:ok\\n\\nTerima k...      1   \n",
       "\n",
       "                                     clean_review_v1  \\\n",
       "0  harga sedang kualitas sedang rasa blm tau pack...   \n",
       "1  bagusss bangettttt emas aman bangett recomend ...   \n",
       "2  kualitas bsgus harga standar paketny dah daten...   \n",
       "3  bumbu mantappppppppppppppppppppppppppppppp lah...   \n",
       "4  harga rasa coklat kualitas terima kasih banyak...   \n",
       "\n",
       "                                     clean_review_v2  \\\n",
       "0  harga sedang kualitas sedang rasa blm tau pack...   \n",
       "1    bagus banget emas aman banget recomend pokoknya   \n",
       "2  kualitas bsgus harga standar paketny dah daten...   \n",
       "3                                   bumbu mantap lah   \n",
       "4  harga rasa coklat kualitas terima kasih banyak...   \n",
       "\n",
       "                                     clean_review_v3  \\\n",
       "0  harga sedang kualitas sedang rasa blm tau pack...   \n",
       "1    bagus banget emas aman banget recomend pokoknya   \n",
       "2  kualitas harga standar dah dateng sesuai pesan...   \n",
       "3                                   bumbu mantap lah   \n",
       "4  harga rasa coklat kualitas terima kasih banyak...   \n",
       "\n",
       "                                     clean_review_v4  \n",
       "0  harga sedang kualitas sedang rasa packing rapi...  \n",
       "1    bagus banget emas aman banget recomend pokoknya  \n",
       "2  kualitas harga standar dateng sesuai pesan lam...  \n",
       "3                                       bumbu mantap  \n",
       "4  harga rasa coklat kualitas terima kasih banyak...  "
      ]
     },
     "execution_count": 4,
     "metadata": {},
     "output_type": "execute_result"
    }
   ],
   "source": [
    "df_food.head()"
   ]
  },
  {
   "cell_type": "code",
   "execution_count": 5,
   "metadata": {},
   "outputs": [
    {
     "data": {
      "text/html": [
       "<div>\n",
       "<style scoped>\n",
       "    .dataframe tbody tr th:only-of-type {\n",
       "        vertical-align: middle;\n",
       "    }\n",
       "\n",
       "    .dataframe tbody tr th {\n",
       "        vertical-align: top;\n",
       "    }\n",
       "\n",
       "    .dataframe thead th {\n",
       "        text-align: right;\n",
       "    }\n",
       "</style>\n",
       "<table border=\"1\" class=\"dataframe\">\n",
       "  <thead>\n",
       "    <tr style=\"text-align: right;\">\n",
       "      <th></th>\n",
       "      <th>reviews</th>\n",
       "      <th>label</th>\n",
       "      <th>clean_review_v1</th>\n",
       "      <th>clean_review_v2</th>\n",
       "      <th>clean_review_v3</th>\n",
       "      <th>clean_review_v4</th>\n",
       "    </tr>\n",
       "  </thead>\n",
       "  <tbody>\n",
       "    <tr>\n",
       "      <th>0</th>\n",
       "      <td>Harga murah speaker lumayan kenceng bsa karoke...</td>\n",
       "      <td>1</td>\n",
       "      <td>harga murah speaker lumayan kenceng bsa karoke...</td>\n",
       "      <td>harga murah speaker lumayan kenceng bsa karoke...</td>\n",
       "      <td>harga murah speaker lumayan kenceng bsa karoke...</td>\n",
       "      <td>harga murah speaker lumayan kenceng karoke mantap</td>\n",
       "    </tr>\n",
       "    <tr>\n",
       "      <th>1</th>\n",
       "      <td>Terima kasih barang sudah sampai, pengiriman s...</td>\n",
       "      <td>1</td>\n",
       "      <td>terima kasih barang kirim sanget cepat mantap ...</td>\n",
       "      <td>terima kasih barang kirim sanget cepat mantap ...</td>\n",
       "      <td>terima kasih barang kirim cepat mantap banget</td>\n",
       "      <td>terima kasih barang kirim cepat mantap banget</td>\n",
       "    </tr>\n",
       "    <tr>\n",
       "      <th>2</th>\n",
       "      <td>Mantap barang nya pengiriman cepat,seller rama...</td>\n",
       "      <td>1</td>\n",
       "      <td>mantap barang nya kirim cepat seller ramah pok...</td>\n",
       "      <td>mantap barang nya kirim cepat seler ramah poko...</td>\n",
       "      <td>mantap barang nya kirim cepat seler ramah poko...</td>\n",
       "      <td>mantap barang kirim cepat seler ramah pokok ma...</td>\n",
       "    </tr>\n",
       "    <tr>\n",
       "      <th>3</th>\n",
       "      <td>Mantap paketnya sdh sampai sesuai pesanan</td>\n",
       "      <td>1</td>\n",
       "      <td>mantap paket sdh sesuai pesan</td>\n",
       "      <td>mantap paket sdh sesuai pesan</td>\n",
       "      <td>mantap paket sdh sesuai pesan</td>\n",
       "      <td>mantap paket sesuai pesan</td>\n",
       "    </tr>\n",
       "    <tr>\n",
       "      <th>4</th>\n",
       "      <td>Terimakasih kak seller dan shoppe,  barangnya ...</td>\n",
       "      <td>1</td>\n",
       "      <td>terimakasih kak seller shoppe barang aman bagus</td>\n",
       "      <td>terimakasih kak seler shope barang aman bagus</td>\n",
       "      <td>terimakasih kak seler shope barang aman bagus</td>\n",
       "      <td>terimakasih seler shope barang aman bagus</td>\n",
       "    </tr>\n",
       "  </tbody>\n",
       "</table>\n",
       "</div>"
      ],
      "text/plain": [
       "                                             reviews  label  \\\n",
       "0  Harga murah speaker lumayan kenceng bsa karoke...      1   \n",
       "1  Terima kasih barang sudah sampai, pengiriman s...      1   \n",
       "2  Mantap barang nya pengiriman cepat,seller rama...      1   \n",
       "3          Mantap paketnya sdh sampai sesuai pesanan      1   \n",
       "4  Terimakasih kak seller dan shoppe,  barangnya ...      1   \n",
       "\n",
       "                                     clean_review_v1  \\\n",
       "0  harga murah speaker lumayan kenceng bsa karoke...   \n",
       "1  terima kasih barang kirim sanget cepat mantap ...   \n",
       "2  mantap barang nya kirim cepat seller ramah pok...   \n",
       "3                      mantap paket sdh sesuai pesan   \n",
       "4    terimakasih kak seller shoppe barang aman bagus   \n",
       "\n",
       "                                     clean_review_v2  \\\n",
       "0  harga murah speaker lumayan kenceng bsa karoke...   \n",
       "1  terima kasih barang kirim sanget cepat mantap ...   \n",
       "2  mantap barang nya kirim cepat seler ramah poko...   \n",
       "3                      mantap paket sdh sesuai pesan   \n",
       "4      terimakasih kak seler shope barang aman bagus   \n",
       "\n",
       "                                     clean_review_v3  \\\n",
       "0  harga murah speaker lumayan kenceng bsa karoke...   \n",
       "1      terima kasih barang kirim cepat mantap banget   \n",
       "2  mantap barang nya kirim cepat seler ramah poko...   \n",
       "3                      mantap paket sdh sesuai pesan   \n",
       "4      terimakasih kak seler shope barang aman bagus   \n",
       "\n",
       "                                     clean_review_v4  \n",
       "0  harga murah speaker lumayan kenceng karoke mantap  \n",
       "1      terima kasih barang kirim cepat mantap banget  \n",
       "2  mantap barang kirim cepat seler ramah pokok ma...  \n",
       "3                          mantap paket sesuai pesan  \n",
       "4          terimakasih seler shope barang aman bagus  "
      ]
     },
     "execution_count": 5,
     "metadata": {},
     "output_type": "execute_result"
    }
   ],
   "source": [
    "df_electronic.head()"
   ]
  },
  {
   "cell_type": "code",
   "execution_count": 6,
   "metadata": {},
   "outputs": [
    {
     "data": {
      "text/html": [
       "<div>\n",
       "<style scoped>\n",
       "    .dataframe tbody tr th:only-of-type {\n",
       "        vertical-align: middle;\n",
       "    }\n",
       "\n",
       "    .dataframe tbody tr th {\n",
       "        vertical-align: top;\n",
       "    }\n",
       "\n",
       "    .dataframe thead th {\n",
       "        text-align: right;\n",
       "    }\n",
       "</style>\n",
       "<table border=\"1\" class=\"dataframe\">\n",
       "  <thead>\n",
       "    <tr style=\"text-align: right;\">\n",
       "      <th></th>\n",
       "      <th>reviews</th>\n",
       "      <th>label</th>\n",
       "      <th>clean_review_v1</th>\n",
       "      <th>clean_review_v2</th>\n",
       "      <th>clean_review_v3</th>\n",
       "      <th>clean_review_v4</th>\n",
       "    </tr>\n",
       "  </thead>\n",
       "  <tbody>\n",
       "    <tr>\n",
       "      <th>0</th>\n",
       "      <td>Alhamdulillah jilbab sya sdh sampai, kualitas ...</td>\n",
       "      <td>1</td>\n",
       "      <td>alhamdulillah jilbab sya sdh kualitas nya bagu...</td>\n",
       "      <td>alhamdulilah jilbab sya sdh kualitas nya bagus...</td>\n",
       "      <td>alhamdulilah jilbab sya sdh kualitas nya bagus...</td>\n",
       "      <td>alhamdulilah jilbab kualitas bagus banget kecewa</td>\n",
       "    </tr>\n",
       "    <tr>\n",
       "      <th>1</th>\n",
       "      <td>Bahan nya suka bgt adem dan lembut sangat memu...</td>\n",
       "      <td>1</td>\n",
       "      <td>bahan nya suka bgt adem lembut sangat muas sekali</td>\n",
       "      <td>bahan nya suka bgt adem lembut sangat muas sekali</td>\n",
       "      <td>bahan nya suka bgt adem lembut sangat muas sekali</td>\n",
       "      <td>bahan suka adem lembut sangat muas sekali</td>\n",
       "    </tr>\n",
       "    <tr>\n",
       "      <th>2</th>\n",
       "      <td>Hoodie yang tebal dan bagus</td>\n",
       "      <td>1</td>\n",
       "      <td>hoodie tebal bagus</td>\n",
       "      <td>hodie tebal bagus</td>\n",
       "      <td>hodie tebal bagus</td>\n",
       "      <td>hodie tebal bagus</td>\n",
       "    </tr>\n",
       "    <tr>\n",
       "      <th>3</th>\n",
       "      <td>Respon penjual ramah baik. Pengiriman lumayan ...</td>\n",
       "      <td>1</td>\n",
       "      <td>respon jual ramah baik kirim lumayan cepat har...</td>\n",
       "      <td>respon jual ramah baik kirim lumayan cepat har...</td>\n",
       "      <td>respon jual ramah baik kirim lumayan cepat har...</td>\n",
       "      <td>respon jual ramah baik kirim lumayan cepat har...</td>\n",
       "    </tr>\n",
       "    <tr>\n",
       "      <th>4</th>\n",
       "      <td>bagussss bangettt, bahann tebal, pengiriman ce...</td>\n",
       "      <td>1</td>\n",
       "      <td>bagussss bangettt bahann tebal kirim cepatt me...</td>\n",
       "      <td>bagus banget bahan tebal kirim cepat memuaskan...</td>\n",
       "      <td>bagus banget bahan tebal kirim cepat memuaskan...</td>\n",
       "      <td>bagus banget bahan tebal kirim cepat memuaskan...</td>\n",
       "    </tr>\n",
       "  </tbody>\n",
       "</table>\n",
       "</div>"
      ],
      "text/plain": [
       "                                             reviews  label  \\\n",
       "0  Alhamdulillah jilbab sya sdh sampai, kualitas ...      1   \n",
       "1  Bahan nya suka bgt adem dan lembut sangat memu...      1   \n",
       "2                        Hoodie yang tebal dan bagus      1   \n",
       "3  Respon penjual ramah baik. Pengiriman lumayan ...      1   \n",
       "4  bagussss bangettt, bahann tebal, pengiriman ce...      1   \n",
       "\n",
       "                                     clean_review_v1  \\\n",
       "0  alhamdulillah jilbab sya sdh kualitas nya bagu...   \n",
       "1  bahan nya suka bgt adem lembut sangat muas sekali   \n",
       "2                                 hoodie tebal bagus   \n",
       "3  respon jual ramah baik kirim lumayan cepat har...   \n",
       "4  bagussss bangettt bahann tebal kirim cepatt me...   \n",
       "\n",
       "                                     clean_review_v2  \\\n",
       "0  alhamdulilah jilbab sya sdh kualitas nya bagus...   \n",
       "1  bahan nya suka bgt adem lembut sangat muas sekali   \n",
       "2                                  hodie tebal bagus   \n",
       "3  respon jual ramah baik kirim lumayan cepat har...   \n",
       "4  bagus banget bahan tebal kirim cepat memuaskan...   \n",
       "\n",
       "                                     clean_review_v3  \\\n",
       "0  alhamdulilah jilbab sya sdh kualitas nya bagus...   \n",
       "1  bahan nya suka bgt adem lembut sangat muas sekali   \n",
       "2                                  hodie tebal bagus   \n",
       "3  respon jual ramah baik kirim lumayan cepat har...   \n",
       "4  bagus banget bahan tebal kirim cepat memuaskan...   \n",
       "\n",
       "                                     clean_review_v4  \n",
       "0   alhamdulilah jilbab kualitas bagus banget kecewa  \n",
       "1          bahan suka adem lembut sangat muas sekali  \n",
       "2                                  hodie tebal bagus  \n",
       "3  respon jual ramah baik kirim lumayan cepat har...  \n",
       "4  bagus banget bahan tebal kirim cepat memuaskan...  "
      ]
     },
     "execution_count": 6,
     "metadata": {},
     "output_type": "execute_result"
    }
   ],
   "source": [
    "df_fashion.head()"
   ]
  },
  {
   "cell_type": "markdown",
   "metadata": {},
   "source": [
    "## Memilih Kolom yang akan digunakan"
   ]
  },
  {
   "cell_type": "code",
   "execution_count": 14,
   "metadata": {},
   "outputs": [],
   "source": [
    "def select_col(df):\n",
    "    df_new = pd.DataFrame()\n",
    "    df_new['reviews'] = df.clean_review_v4\n",
    "    df_new['label'] = df.label\n",
    "    return df_new"
   ]
  },
  {
   "cell_type": "code",
   "execution_count": 15,
   "metadata": {},
   "outputs": [
    {
     "data": {
      "text/html": [
       "<div>\n",
       "<style scoped>\n",
       "    .dataframe tbody tr th:only-of-type {\n",
       "        vertical-align: middle;\n",
       "    }\n",
       "\n",
       "    .dataframe tbody tr th {\n",
       "        vertical-align: top;\n",
       "    }\n",
       "\n",
       "    .dataframe thead th {\n",
       "        text-align: right;\n",
       "    }\n",
       "</style>\n",
       "<table border=\"1\" class=\"dataframe\">\n",
       "  <thead>\n",
       "    <tr style=\"text-align: right;\">\n",
       "      <th></th>\n",
       "      <th>reviews</th>\n",
       "      <th>label</th>\n",
       "    </tr>\n",
       "  </thead>\n",
       "  <tbody>\n",
       "    <tr>\n",
       "      <th>0</th>\n",
       "      <td>harga sedang kualitas sedang rasa packing rapi...</td>\n",
       "      <td>1</td>\n",
       "    </tr>\n",
       "    <tr>\n",
       "      <th>1</th>\n",
       "      <td>bagus banget emas aman banget recomend pokoknya</td>\n",
       "      <td>1</td>\n",
       "    </tr>\n",
       "    <tr>\n",
       "      <th>2</th>\n",
       "      <td>kualitas harga standar dateng sesuai pesan lam...</td>\n",
       "      <td>1</td>\n",
       "    </tr>\n",
       "    <tr>\n",
       "      <th>3</th>\n",
       "      <td>bumbu mantap</td>\n",
       "      <td>1</td>\n",
       "    </tr>\n",
       "    <tr>\n",
       "      <th>4</th>\n",
       "      <td>harga rasa coklat kualitas terima kasih banyak...</td>\n",
       "      <td>1</td>\n",
       "    </tr>\n",
       "  </tbody>\n",
       "</table>\n",
       "</div>"
      ],
      "text/plain": [
       "                                             reviews  label\n",
       "0  harga sedang kualitas sedang rasa packing rapi...      1\n",
       "1    bagus banget emas aman banget recomend pokoknya      1\n",
       "2  kualitas harga standar dateng sesuai pesan lam...      1\n",
       "3                                       bumbu mantap      1\n",
       "4  harga rasa coklat kualitas terima kasih banyak...      1"
      ]
     },
     "execution_count": 15,
     "metadata": {},
     "output_type": "execute_result"
    }
   ],
   "source": [
    "df_food_v1 = select_col(df_food)\n",
    "df_food_v1.head()"
   ]
  },
  {
   "cell_type": "code",
   "execution_count": 16,
   "metadata": {},
   "outputs": [
    {
     "data": {
      "text/html": [
       "<div>\n",
       "<style scoped>\n",
       "    .dataframe tbody tr th:only-of-type {\n",
       "        vertical-align: middle;\n",
       "    }\n",
       "\n",
       "    .dataframe tbody tr th {\n",
       "        vertical-align: top;\n",
       "    }\n",
       "\n",
       "    .dataframe thead th {\n",
       "        text-align: right;\n",
       "    }\n",
       "</style>\n",
       "<table border=\"1\" class=\"dataframe\">\n",
       "  <thead>\n",
       "    <tr style=\"text-align: right;\">\n",
       "      <th></th>\n",
       "      <th>reviews</th>\n",
       "      <th>label</th>\n",
       "    </tr>\n",
       "  </thead>\n",
       "  <tbody>\n",
       "    <tr>\n",
       "      <th>0</th>\n",
       "      <td>harga murah speaker lumayan kenceng karoke mantap</td>\n",
       "      <td>1</td>\n",
       "    </tr>\n",
       "    <tr>\n",
       "      <th>1</th>\n",
       "      <td>terima kasih barang kirim cepat mantap banget</td>\n",
       "      <td>1</td>\n",
       "    </tr>\n",
       "    <tr>\n",
       "      <th>2</th>\n",
       "      <td>mantap barang kirim cepat seler ramah pokok ma...</td>\n",
       "      <td>1</td>\n",
       "    </tr>\n",
       "    <tr>\n",
       "      <th>3</th>\n",
       "      <td>mantap paket sesuai pesan</td>\n",
       "      <td>1</td>\n",
       "    </tr>\n",
       "    <tr>\n",
       "      <th>4</th>\n",
       "      <td>terimakasih seler shope barang aman bagus</td>\n",
       "      <td>1</td>\n",
       "    </tr>\n",
       "  </tbody>\n",
       "</table>\n",
       "</div>"
      ],
      "text/plain": [
       "                                             reviews  label\n",
       "0  harga murah speaker lumayan kenceng karoke mantap      1\n",
       "1      terima kasih barang kirim cepat mantap banget      1\n",
       "2  mantap barang kirim cepat seler ramah pokok ma...      1\n",
       "3                          mantap paket sesuai pesan      1\n",
       "4          terimakasih seler shope barang aman bagus      1"
      ]
     },
     "execution_count": 16,
     "metadata": {},
     "output_type": "execute_result"
    }
   ],
   "source": [
    "df_electronic_v1 = select_col(df_electronic)\n",
    "df_electronic_v1.head()"
   ]
  },
  {
   "cell_type": "code",
   "execution_count": 17,
   "metadata": {},
   "outputs": [
    {
     "data": {
      "text/html": [
       "<div>\n",
       "<style scoped>\n",
       "    .dataframe tbody tr th:only-of-type {\n",
       "        vertical-align: middle;\n",
       "    }\n",
       "\n",
       "    .dataframe tbody tr th {\n",
       "        vertical-align: top;\n",
       "    }\n",
       "\n",
       "    .dataframe thead th {\n",
       "        text-align: right;\n",
       "    }\n",
       "</style>\n",
       "<table border=\"1\" class=\"dataframe\">\n",
       "  <thead>\n",
       "    <tr style=\"text-align: right;\">\n",
       "      <th></th>\n",
       "      <th>reviews</th>\n",
       "      <th>label</th>\n",
       "    </tr>\n",
       "  </thead>\n",
       "  <tbody>\n",
       "    <tr>\n",
       "      <th>0</th>\n",
       "      <td>alhamdulilah jilbab kualitas bagus banget kecewa</td>\n",
       "      <td>1</td>\n",
       "    </tr>\n",
       "    <tr>\n",
       "      <th>1</th>\n",
       "      <td>bahan suka adem lembut sangat muas sekali</td>\n",
       "      <td>1</td>\n",
       "    </tr>\n",
       "    <tr>\n",
       "      <th>2</th>\n",
       "      <td>hodie tebal bagus</td>\n",
       "      <td>1</td>\n",
       "    </tr>\n",
       "    <tr>\n",
       "      <th>3</th>\n",
       "      <td>respon jual ramah baik kirim lumayan cepat har...</td>\n",
       "      <td>1</td>\n",
       "    </tr>\n",
       "    <tr>\n",
       "      <th>4</th>\n",
       "      <td>bagus banget bahan tebal kirim cepat memuaskan...</td>\n",
       "      <td>1</td>\n",
       "    </tr>\n",
       "  </tbody>\n",
       "</table>\n",
       "</div>"
      ],
      "text/plain": [
       "                                             reviews  label\n",
       "0   alhamdulilah jilbab kualitas bagus banget kecewa      1\n",
       "1          bahan suka adem lembut sangat muas sekali      1\n",
       "2                                  hodie tebal bagus      1\n",
       "3  respon jual ramah baik kirim lumayan cepat har...      1\n",
       "4  bagus banget bahan tebal kirim cepat memuaskan...      1"
      ]
     },
     "execution_count": 17,
     "metadata": {},
     "output_type": "execute_result"
    }
   ],
   "source": [
    "df_fashion_v1 = select_col(df_fashion)\n",
    "df_fashion_v1.head()"
   ]
  },
  {
   "cell_type": "markdown",
   "metadata": {},
   "source": [
    "## Split Dataset"
   ]
  },
  {
   "cell_type": "code",
   "execution_count": 28,
   "metadata": {},
   "outputs": [],
   "source": [
    "def split_data(df, test_size, target):\n",
    "    X = df.drop(target, axis=1)  \n",
    "    y = df[target]\t\t\t\n",
    "\n",
    "    X_train, X_test, y_train, y_test = train_test_split(X, y, test_size=test_size, random_state=42, stratify=y)\n",
    "    df_train, df_test = pd.DataFrame(), pd.DataFrame()\n",
    "    df_train['reviews'], df_test['reviews'] = X_train, X_test\n",
    "    df_train['label'], df_test['label'] = y_train, y_test\n",
    "    df_train, df_test = df_train.reset_index(drop=True), df_test.reset_index(drop=True)\n",
    "    return df_train, df_test    "
   ]
  },
  {
   "cell_type": "code",
   "execution_count": 30,
   "metadata": {},
   "outputs": [
    {
     "data": {
      "text/plain": [
       "(                                                reviews  label\n",
       " 0     rasa biasa harga mahal kualitas standar kira b...      0\n",
       " 1         harga murah barang cuma kirim rada lama thank      1\n",
       " 2     rasa coklat kualitas harga jangkau emas baik k...      1\n",
       " 3     harga baru beli susu kambing bubuk merk kualit...      0\n",
       " 4     paket terima selamat cacat cepet emas kirim seler      1\n",
       " ...                                                 ...    ...\n",
       " 8332  mantap bonus alhamdulilah bumbu rembes aman pl...      1\n",
       " 8333  kualitas produk baik harga produk baik grentea...      1\n",
       " 8334            rasa kayak enak harga harga mahal harga      0\n",
       " 8335  harga baik kualitas baik rasa baik terimakasih...      1\n",
       " 8336  harga mahal kualitas buruk rasa enak sama seka...      0\n",
       " \n",
       " [8337 rows x 2 columns],\n",
       "                                                 reviews  label\n",
       " 0              emas aman kualitas original sesuai pesan      1\n",
       " 1     harga murah bentuk tekstur bubuk aroma caramel...      1\n",
       " 2                        thankyou bagus packingnya rapi      1\n",
       " 3     harga mantul kualitas rasa mantul langan bange...      1\n",
       " 4     foto terima kualitas produk baik kirim cepat b...      1\n",
       " ...                                                 ...    ...\n",
       " 2080  beli pertama beli semutin basi pdhl stlh datan...      0\n",
       " 2081  harga kualitas rasa barang original slalu best...      1\n",
       " 2082  cepat banget kirim cuma hari padahal pake grat...      1\n",
       " 2083  alhamdulilah sampe baik baik gada bocor puas p...      1\n",
       " 2084  harga kualitas rasa gatau sering beli sini mag...      1\n",
       " \n",
       " [2085 rows x 2 columns])"
      ]
     },
     "execution_count": 30,
     "metadata": {},
     "output_type": "execute_result"
    }
   ],
   "source": [
    "train_food, test_food = split_data(df_food_v1, 0.2, 'label')\n",
    "train_food, test_food"
   ]
  },
  {
   "cell_type": "code",
   "execution_count": 31,
   "metadata": {},
   "outputs": [
    {
     "data": {
      "text/plain": [
       "(                                                 reviews  label\n",
       " 0                      langsung pakai dong murmer banget      1\n",
       " 1      putar panas fungsi masa putar atur panas padah...      0\n",
       " 2      paket kasi buble wrap kotak jadi penyok aman m...      1\n",
       " 3                   works thankyou seler very recomended      1\n",
       " 4      mantap suara guys kirim super cepat pokok bagu...      1\n",
       " ...                                                  ...    ...\n",
       " 39772  cepet sesuai gambar moga awet trima kasih sele...      1\n",
       " 39773                                  kirim sesuai foto      0\n",
       " 39774  harga pantesan murah lampu mati jual daya list...      0\n",
       " 39775                      sesuai vidio mantap slow beli      0\n",
       " 39776  harga mumer daya listrik gatau kualitas bagus ...      1\n",
       " \n",
       " [39777 rows x 2 columns],\n",
       "                                                 reviews  label\n",
       " 0     produk jelek banget jangan beli parah suara ad...      0\n",
       " 1     harga murah lampuny turun mungkin copot nyala ...      0\n",
       " 2           terima kasih produk terima coba semua bagus      1\n",
       " 3     harga daya listrik kualitas kurang baik masa s...      0\n",
       " 4                                         blum bruntung      0\n",
       " ...                                                 ...    ...\n",
       " 9940          bagus setrika panas hehe kirim cepat suka      1\n",
       " 9941                     kecewa banget karna kasih mono      0\n",
       " 9942  packingnya rusak kena hujan buble warp untung ...      0\n",
       " 9943  harga murah daya listrik daya listrik rumah ba...      1\n",
       " 9944         produk bagus suara enak ngebas kuping poko      1\n",
       " \n",
       " [9945 rows x 2 columns])"
      ]
     },
     "execution_count": 31,
     "metadata": {},
     "output_type": "execute_result"
    }
   ],
   "source": [
    "train_electronic, test_electronic = split_data(df_electronic_v1, 0.2, 'label')\n",
    "train_electronic, test_electronic"
   ]
  },
  {
   "cell_type": "code",
   "execution_count": 32,
   "metadata": {},
   "outputs": [
    {
     "data": {
      "text/plain": [
       "(                                                 reviews  label\n",
       " 0      kualitas barang bagus rekomendasi buat kalian ...      1\n",
       " 1                           bagus cuman kurang rapi emas      0\n",
       " 2              harga segtu lumayan hari hari bhnya tipis      0\n",
       " 3                            sesuai poto masa mesan baik      0\n",
       " 4                                             sampe ulas      1\n",
       " ...                                                  ...    ...\n",
       " 90459       barang sendal tipis banget sesuai sama harga      0\n",
       " 90460  sesuai ekspektasi harga murah produk recomend ...      1\n",
       " 90461              sori salah baca nyata baju cewe kerah      1\n",
       " 90462  mantap pokonamah kirim cepat packing aman reco...      0\n",
       " 90463             kirim lumayan lama barang tipis banget      0\n",
       " \n",
       " [90464 rows x 2 columns],\n",
       "                                                  reviews  label\n",
       " 0      suka sama sendalny suka nyesel beli toko jujur...      1\n",
       " 1         syuka banget muah hehe udah kali belanja store      1\n",
       " 2      sedih soal warna coklat abis padahal banget wa...      0\n",
       " 3                        bahan harga segitu ongkir mahal      1\n",
       " 4                         bagus kirim sangat lama kecewa      1\n",
       " ...                                                  ...    ...\n",
       " 22611  pesan warna hitam lilac putih datang warna hit...      0\n",
       " 22612                                              kecil      0\n",
       " 22613                 barang jelek nerawang tipis kecewa      0\n",
       " 22614  alhamdulilah produk sesuai pesan baik warna ma...      1\n",
       " 22615                                                NaN      1\n",
       " \n",
       " [22616 rows x 2 columns])"
      ]
     },
     "execution_count": 32,
     "metadata": {},
     "output_type": "execute_result"
    }
   ],
   "source": [
    "train_fashion, test_fashion = split_data(df_fashion_v1, 0.2, 'label')\n",
    "train_fashion, test_fashion"
   ]
  },
  {
   "cell_type": "code",
   "execution_count": 36,
   "metadata": {},
   "outputs": [
    {
     "name": "stdout",
     "output_type": "stream",
     "text": [
      "Rasio Label Data Training Kategori Food : Counter({1: 4169, 0: 4168})\n",
      "Rasio Label Data Testing Kategori Food : Counter({0: 1043, 1: 1042})\n"
     ]
    }
   ],
   "source": [
    "print('Rasio Label Data Training Kategori Food :', Counter(train_food.label))\n",
    "print('Rasio Label Data Testing Kategori Food :',Counter(test_food.label))"
   ]
  },
  {
   "cell_type": "markdown",
   "metadata": {},
   "source": [
    "## Save Data"
   ]
  },
  {
   "cell_type": "code",
   "execution_count": 37,
   "metadata": {},
   "outputs": [],
   "source": [
    "train_food.to_csv('../data/processed/train/food_train.csv', index = False)\n",
    "train_electronic.to_csv('../data/processed/train/electronic_train.csv', index = False)\n",
    "train_fashion.to_csv('../data/processed/train/fashion_train.csv', index = False)\n",
    "\n",
    "test_food.to_csv('../data/processed/test/food_train.csv', index = False)\n",
    "test_electronic.to_csv('../data/processed/test/electronic_train.csv', index = False)\n",
    "test_fashion.to_csv('../data/processed/test/fashion_train.csv', index = False)"
   ]
  }
 ],
 "metadata": {
  "interpreter": {
   "hash": "c11b6e3dd3c40971b4e52db259878f5dc8d878adefe17888dc47bc66d82c736b"
  },
  "kernelspec": {
   "display_name": "Python 3.9.6 ('.venv': venv)",
   "language": "python",
   "name": "python3"
  },
  "language_info": {
   "codemirror_mode": {
    "name": "ipython",
    "version": 3
   },
   "file_extension": ".py",
   "mimetype": "text/x-python",
   "name": "python",
   "nbconvert_exporter": "python",
   "pygments_lexer": "ipython3",
   "version": "3.9.6"
  },
  "orig_nbformat": 4
 },
 "nbformat": 4,
 "nbformat_minor": 2
}
