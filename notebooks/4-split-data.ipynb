{
 "cells": [
  {
   "cell_type": "code",
   "execution_count": 1,
   "metadata": {},
   "outputs": [],
   "source": [
    "import pandas as pd\n",
    "from sklearn.model_selection import train_test_split\n",
    "from collections import Counter"
   ]
  },
  {
   "cell_type": "code",
   "execution_count": 2,
   "metadata": {},
   "outputs": [],
   "source": [
    "DF_PATH = '../data/interim/'"
   ]
  },
  {
   "cell_type": "markdown",
   "metadata": {},
   "source": [
    "## Import Data"
   ]
  },
  {
   "cell_type": "code",
   "execution_count": 3,
   "metadata": {},
   "outputs": [],
   "source": [
    "\n",
    "df_food = pd.read_csv(DF_PATH + '3_food_cleaned_v3.csv')\n",
    "df_electronic = pd.read_csv(DF_PATH + '3_electronic_cleaned_v3.csv')\n",
    "df_fashion = pd.read_csv(DF_PATH + '3_fashion_cleaned_v3.csv')"
   ]
  },
  {
   "cell_type": "code",
   "execution_count": 4,
   "metadata": {},
   "outputs": [
    {
     "data": {
      "text/html": [
       "<div>\n",
       "<style scoped>\n",
       "    .dataframe tbody tr th:only-of-type {\n",
       "        vertical-align: middle;\n",
       "    }\n",
       "\n",
       "    .dataframe tbody tr th {\n",
       "        vertical-align: top;\n",
       "    }\n",
       "\n",
       "    .dataframe thead th {\n",
       "        text-align: right;\n",
       "    }\n",
       "</style>\n",
       "<table border=\"1\" class=\"dataframe\">\n",
       "  <thead>\n",
       "    <tr style=\"text-align: right;\">\n",
       "      <th></th>\n",
       "      <th>reviews</th>\n",
       "      <th>label</th>\n",
       "    </tr>\n",
       "  </thead>\n",
       "  <tbody>\n",
       "    <tr>\n",
       "      <th>0</th>\n",
       "      <td>harga sedang kualitas sedang rasa packing rapi...</td>\n",
       "      <td>1</td>\n",
       "    </tr>\n",
       "    <tr>\n",
       "      <th>1</th>\n",
       "      <td>bagus banget emas aman banget recomend pokoknya</td>\n",
       "      <td>1</td>\n",
       "    </tr>\n",
       "    <tr>\n",
       "      <th>2</th>\n",
       "      <td>kualitas harga standar dateng sesuai pesan lam...</td>\n",
       "      <td>1</td>\n",
       "    </tr>\n",
       "    <tr>\n",
       "      <th>3</th>\n",
       "      <td>bumbu mantap</td>\n",
       "      <td>1</td>\n",
       "    </tr>\n",
       "    <tr>\n",
       "      <th>4</th>\n",
       "      <td>harga rasa coklat kualitas terima kasih banyak...</td>\n",
       "      <td>1</td>\n",
       "    </tr>\n",
       "  </tbody>\n",
       "</table>\n",
       "</div>"
      ],
      "text/plain": [
       "                                             reviews  label\n",
       "0  harga sedang kualitas sedang rasa packing rapi...      1\n",
       "1    bagus banget emas aman banget recomend pokoknya      1\n",
       "2  kualitas harga standar dateng sesuai pesan lam...      1\n",
       "3                                       bumbu mantap      1\n",
       "4  harga rasa coklat kualitas terima kasih banyak...      1"
      ]
     },
     "execution_count": 4,
     "metadata": {},
     "output_type": "execute_result"
    }
   ],
   "source": [
    "df_food.head()"
   ]
  },
  {
   "cell_type": "code",
   "execution_count": 5,
   "metadata": {},
   "outputs": [
    {
     "data": {
      "text/html": [
       "<div>\n",
       "<style scoped>\n",
       "    .dataframe tbody tr th:only-of-type {\n",
       "        vertical-align: middle;\n",
       "    }\n",
       "\n",
       "    .dataframe tbody tr th {\n",
       "        vertical-align: top;\n",
       "    }\n",
       "\n",
       "    .dataframe thead th {\n",
       "        text-align: right;\n",
       "    }\n",
       "</style>\n",
       "<table border=\"1\" class=\"dataframe\">\n",
       "  <thead>\n",
       "    <tr style=\"text-align: right;\">\n",
       "      <th></th>\n",
       "      <th>reviews</th>\n",
       "      <th>label</th>\n",
       "    </tr>\n",
       "  </thead>\n",
       "  <tbody>\n",
       "    <tr>\n",
       "      <th>0</th>\n",
       "      <td>harga murah speaker lumayan kenceng karoke mantap</td>\n",
       "      <td>1</td>\n",
       "    </tr>\n",
       "    <tr>\n",
       "      <th>1</th>\n",
       "      <td>terima kasih barang kirim cepat mantap banget</td>\n",
       "      <td>1</td>\n",
       "    </tr>\n",
       "    <tr>\n",
       "      <th>2</th>\n",
       "      <td>mantap barang kirim cepat seler ramah pokok ma...</td>\n",
       "      <td>1</td>\n",
       "    </tr>\n",
       "    <tr>\n",
       "      <th>3</th>\n",
       "      <td>mantap paket sesuai pesan</td>\n",
       "      <td>1</td>\n",
       "    </tr>\n",
       "    <tr>\n",
       "      <th>4</th>\n",
       "      <td>terimakasih seler shope barang aman bagus</td>\n",
       "      <td>1</td>\n",
       "    </tr>\n",
       "  </tbody>\n",
       "</table>\n",
       "</div>"
      ],
      "text/plain": [
       "                                             reviews  label\n",
       "0  harga murah speaker lumayan kenceng karoke mantap      1\n",
       "1      terima kasih barang kirim cepat mantap banget      1\n",
       "2  mantap barang kirim cepat seler ramah pokok ma...      1\n",
       "3                          mantap paket sesuai pesan      1\n",
       "4          terimakasih seler shope barang aman bagus      1"
      ]
     },
     "execution_count": 5,
     "metadata": {},
     "output_type": "execute_result"
    }
   ],
   "source": [
    "df_electronic.head()"
   ]
  },
  {
   "cell_type": "code",
   "execution_count": 6,
   "metadata": {},
   "outputs": [
    {
     "data": {
      "text/html": [
       "<div>\n",
       "<style scoped>\n",
       "    .dataframe tbody tr th:only-of-type {\n",
       "        vertical-align: middle;\n",
       "    }\n",
       "\n",
       "    .dataframe tbody tr th {\n",
       "        vertical-align: top;\n",
       "    }\n",
       "\n",
       "    .dataframe thead th {\n",
       "        text-align: right;\n",
       "    }\n",
       "</style>\n",
       "<table border=\"1\" class=\"dataframe\">\n",
       "  <thead>\n",
       "    <tr style=\"text-align: right;\">\n",
       "      <th></th>\n",
       "      <th>reviews</th>\n",
       "      <th>label</th>\n",
       "    </tr>\n",
       "  </thead>\n",
       "  <tbody>\n",
       "    <tr>\n",
       "      <th>0</th>\n",
       "      <td>alhamdulilah jilbab kualitas bagus banget kecewa</td>\n",
       "      <td>1</td>\n",
       "    </tr>\n",
       "    <tr>\n",
       "      <th>1</th>\n",
       "      <td>bahan suka adem lembut sangat muas sekali</td>\n",
       "      <td>1</td>\n",
       "    </tr>\n",
       "    <tr>\n",
       "      <th>2</th>\n",
       "      <td>hodie tebal bagus</td>\n",
       "      <td>1</td>\n",
       "    </tr>\n",
       "    <tr>\n",
       "      <th>3</th>\n",
       "      <td>respon jual ramah baik kirim lumayan cepat har...</td>\n",
       "      <td>1</td>\n",
       "    </tr>\n",
       "    <tr>\n",
       "      <th>4</th>\n",
       "      <td>bagus banget bahan tebal kirim cepat memuaskan...</td>\n",
       "      <td>1</td>\n",
       "    </tr>\n",
       "  </tbody>\n",
       "</table>\n",
       "</div>"
      ],
      "text/plain": [
       "                                             reviews  label\n",
       "0   alhamdulilah jilbab kualitas bagus banget kecewa      1\n",
       "1          bahan suka adem lembut sangat muas sekali      1\n",
       "2                                  hodie tebal bagus      1\n",
       "3  respon jual ramah baik kirim lumayan cepat har...      1\n",
       "4  bagus banget bahan tebal kirim cepat memuaskan...      1"
      ]
     },
     "execution_count": 6,
     "metadata": {},
     "output_type": "execute_result"
    }
   ],
   "source": [
    "df_fashion.head()"
   ]
  },
  {
   "cell_type": "markdown",
   "metadata": {},
   "source": [
    "## Split Dataset"
   ]
  },
  {
   "cell_type": "code",
   "execution_count": 7,
   "metadata": {},
   "outputs": [],
   "source": [
    "def split_data(df, test_size, target):\n",
    "    X = df.drop(target, axis=1)  \n",
    "    y = df[target]\t\t\t\n",
    "\n",
    "    X_train, X_test, y_train, y_test = train_test_split(X, y, test_size=test_size, random_state=42, stratify=y)\n",
    "    df_train, df_test = pd.DataFrame(), pd.DataFrame()\n",
    "    df_train['reviews'], df_test['reviews'] = X_train, X_test\n",
    "    df_train['label'], df_test['label'] = y_train, y_test\n",
    "    df_train, df_test = df_train.reset_index(drop=True), df_test.reset_index(drop=True)\n",
    "    return df_train, df_test    "
   ]
  },
  {
   "cell_type": "code",
   "execution_count": 8,
   "metadata": {},
   "outputs": [
    {
     "data": {
      "text/plain": [
       "(                                                reviews  label\n",
       " 0     kualitas produk sangat baik cepat kirim sangat...      1\n",
       " 1     luar krna alot keras pikir emng makan semua tu...      0\n",
       " 2     baik kasih bonus cobain satu arti besok order ...      1\n",
       " 3     kurang next lebih teliti complain krna lalai r...      0\n",
       " 4     mantul baru pesan malam besok langsung sampe p...      1\n",
       " ...                                                 ...    ...\n",
       " 8227  sesuai pesan cepat harga terimakasih moga maki...      1\n",
       " 8228            coba moga cocok hehe terima kasih seler      1\n",
       " 8229  harga mahal kualitas rasa coba emas rapi aman ...      0\n",
       " 8230              rasa enak harga sesuai kualitas bagus      0\n",
       " 8231  beli bundle dkrim kotak respon lama aktif beli...      0\n",
       " \n",
       " [8232 rows x 2 columns],\n",
       "                                                 reviews  label\n",
       " 0                 kucing selalu suka sama bikin mencret      0\n",
       " 1     harga jenis kualitas kirim emas barang pesan s...      1\n",
       " 2                     coba banyak mesan harga moga enak      1\n",
       " 3      kirim cepat barang bagus bener seger admin ramah      1\n",
       " 4                                 mantul insyalah pesan      1\n",
       " ...                                                 ...    ...\n",
       " 2053  harga lumayan kualitas standard rasa coklat pa...      0\n",
       " 2054                               kirim lebih estimasi      0\n",
       " 2055          buka bungkus sobek padahal buka sisi satu      0\n",
       " 2056                           kurang pedes jadi selera      0\n",
       " 2057  expired maret mungkin barang stock lama biasa ...      0\n",
       " \n",
       " [2058 rows x 2 columns])"
      ]
     },
     "execution_count": 8,
     "metadata": {},
     "output_type": "execute_result"
    }
   ],
   "source": [
    "train_food, test_food = split_data(df_food, 0.2, 'label')\n",
    "train_food, test_food"
   ]
  },
  {
   "cell_type": "code",
   "execution_count": 9,
   "metadata": {},
   "outputs": [
    {
     "data": {
      "text/plain": [
       "(                                                 reviews  label\n",
       " 0      harga murah riah kualitas okey desain baik bar...      1\n",
       " 1      produk asli bagus harga coba mudah mudah baran...      1\n",
       " 2      alhamdulilah barang sampe aman kendala sampe l...      1\n",
       " 3                 paket terima selamat coba thanks seler      1\n",
       " 4                           bagus banget cucok moga awet      1\n",
       " ...                                                  ...    ...\n",
       " 39063  bagus banget makasi banyak seler kirim cepet n...      1\n",
       " 39064         ngerekam tulis storage padahal udah conect      0\n",
       " 39065                     bagus packing aman fungsi baik      1\n",
       " 39066  suka banget fungsi baik sesuai pesan enak bang...      1\n",
       " 39067               kirim super lama suara kurang ngebas      0\n",
       " \n",
       " [39068 rows x 2 columns],\n",
       "                                                 reviews  label\n",
       " 0                        barang catat lampu nyala panas      1\n",
       " 1     udah lanjur terima pakai beberapa hari mouse m...      0\n",
       " 2     produk kecewa remote rusak minta tukar remote ...      0\n",
       " 3                                         barang sekali      1\n",
       " 4                        mantab ngebas recomended seler      1\n",
       " ...                                                 ...    ...\n",
       " 9763  beli kali toko alhasil barang rusak perhati ba...      0\n",
       " 9764  layan sangat bagus respon jual sangat cepat po...      1\n",
       " 9765  keyboard bagus lampu nyala nyangka nyata asli ...      1\n",
       " 9766  tanya selernya kata kirim sesuai estimasi bene...      0\n",
       " 9767  kaca pecah order pakai paking kayu kirim pakai...      0\n",
       " \n",
       " [9768 rows x 2 columns])"
      ]
     },
     "execution_count": 9,
     "metadata": {},
     "output_type": "execute_result"
    }
   ],
   "source": [
    "train_electronic, test_electronic = split_data(df_electronic, 0.2, 'label')\n",
    "train_electronic, test_electronic"
   ]
  },
  {
   "cell_type": "code",
   "execution_count": 10,
   "metadata": {},
   "outputs": [
    {
     "data": {
      "text/plain": [
       "(                                                 reviews  label\n",
       " 0                       suka banget sama sandal markotop      1\n",
       " 1      paket baju cukup bagus cuma bahan tipis okay h...      1\n",
       " 2                     bagus cuma bahan bawah keras licin      1\n",
       " 3      warna beda banget sama mustard malah lebih mir...      0\n",
       " 4      sumpah bagus banget bahan enak lucu banget uku...      1\n",
       " ...                                                  ...    ...\n",
       " 88703  plis enak banget bahan enak bentuk adem sama s...      1\n",
       " 88704  kirim cepat kurir ramah bahan nerawang tipis u...      0\n",
       " 88705  kirim lumayan cepet packing rapi sekaligus saf...      1\n",
       " 88706  kain tipis biasa cukup muat keluar uang jahit ...      0\n",
       " 88707                                 barang sesuai foto      0\n",
       " \n",
       " [88708 rows x 2 columns],\n",
       "                                                  reviews  label\n",
       " 0      mantap jaketny tipis bhanya hrgany mantap mant...      1\n",
       " 1         tipis banget terus kecil ukur anak sesuai hrga      0\n",
       " 2      ukur kecil kaya toko biasa bukan bungkus pake ...      1\n",
       " 3      sepatu keren banget kira bakal bagus datang ny...      1\n",
       " 4      bahan lumayan tebal cuman masuk sama pingang p...      1\n",
       " ...                                                  ...    ...\n",
       " 22173  celana bagus karna salah baca deskripsiny sesu...      1\n",
       " 22174                             cakep buat harga segtu      1\n",
       " 22175                                       tebel mantep      1\n",
       " 22176        bekas mingu 2021 main beautiful game suport      1\n",
       " 22177                  foto sesuai barang lama nyampenya      1\n",
       " \n",
       " [22178 rows x 2 columns])"
      ]
     },
     "execution_count": 10,
     "metadata": {},
     "output_type": "execute_result"
    }
   ],
   "source": [
    "train_fashion, test_fashion = split_data(df_fashion, 0.2, 'label')\n",
    "train_fashion, test_fashion"
   ]
  },
  {
   "cell_type": "code",
   "execution_count": 11,
   "metadata": {},
   "outputs": [
    {
     "name": "stdout",
     "output_type": "stream",
     "text": [
      "Rasio Label Data Training Kategori Food : Counter({0: 4119, 1: 4113})\n",
      "Rasio Label Data Testing Kategori Food : Counter({0: 1030, 1: 1028})\n"
     ]
    }
   ],
   "source": [
    "print('Rasio Label Data Training Kategori Food :', Counter(train_food.label))\n",
    "print('Rasio Label Data Testing Kategori Food :',Counter(test_food.label))"
   ]
  },
  {
   "cell_type": "markdown",
   "metadata": {},
   "source": [
    "## Save Data"
   ]
  },
  {
   "cell_type": "code",
   "execution_count": 16,
   "metadata": {},
   "outputs": [],
   "source": [
    "train_food.to_csv('../data/processed/train/food_train.csv', index = False)\n",
    "train_electronic.to_csv('../data/processed/train/electronic_train.csv', index = False)\n",
    "train_fashion.to_csv('../data/processed/train/fashion_train.csv', index = False)\n",
    "\n",
    "test_food.to_csv('../data/processed/test/food_test.csv', index = False)\n",
    "test_electronic.to_csv('../data/processed/test/electronic_test.csv', index = False)\n",
    "test_fashion.to_csv('../data/processed/test/fashion_test.csv', index = False)"
   ]
  }
 ],
 "metadata": {
  "interpreter": {
   "hash": "c11b6e3dd3c40971b4e52db259878f5dc8d878adefe17888dc47bc66d82c736b"
  },
  "kernelspec": {
   "display_name": "Python 3.9.6 ('.venv': venv)",
   "language": "python",
   "name": "python3"
  },
  "language_info": {
   "codemirror_mode": {
    "name": "ipython",
    "version": 3
   },
   "file_extension": ".py",
   "mimetype": "text/x-python",
   "name": "python",
   "nbconvert_exporter": "python",
   "pygments_lexer": "ipython3",
   "version": "3.9.6"
  },
  "orig_nbformat": 4
 },
 "nbformat": 4,
 "nbformat_minor": 2
}
